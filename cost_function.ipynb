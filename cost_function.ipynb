{
 "cells": [
  {
   "cell_type": "raw",
   "id": "f4c65422-cd06-48f3-935d-a54a14b2b7f2",
   "metadata": {},
   "source": [
    "# cost function is a important parameter that determines how well machine learning model performs for given dataset.\n",
    "it measure how wrong the model is in estimating relationship between x and y parameter\n",
    "# types\n",
    "1 Regression cost function\n",
    "    mean square error\n",
    "    root mean square error\n",
    "    mean absolute error\n",
    "    r^2 accuracy\n",
    "2 classification cost function\n",
    "    1 binary class classification\n",
    "    2 multiclass classification\n",
    "        1 binary cross entropy cost function\n",
    "        2 log loss function"
   ]
  },
  {
   "cell_type": "markdown",
   "id": "d2750d77-2361-41de-b393-187eca63c781",
   "metadata": {},
   "source": [
    "# Regression cost function"
   ]
  },
  {
   "cell_type": "raw",
   "id": "1751bcf7-7402-46c7-a5b1-e9964c901648",
   "metadata": {},
   "source": [
    "mean square error = 1/n* (summetion i=1 to n(y - ypred)^2)\n",
    "mean absolute error = 1/n* (summetion i=1 to n |y - ypred|)\n",
    "root mean square error = square root of mean square error"
   ]
  },
  {
   "cell_type": "code",
   "execution_count": null,
   "id": "b727a96a-1725-419c-a3f6-6e46479dbb20",
   "metadata": {},
   "outputs": [],
   "source": []
  }
 ],
 "metadata": {
  "kernelspec": {
   "display_name": "Python 3 (ipykernel)",
   "language": "python",
   "name": "python3"
  },
  "language_info": {
   "codemirror_mode": {
    "name": "ipython",
    "version": 3
   },
   "file_extension": ".py",
   "mimetype": "text/x-python",
   "name": "python",
   "nbconvert_exporter": "python",
   "pygments_lexer": "ipython3",
   "version": "3.12.3"
  }
 },
 "nbformat": 4,
 "nbformat_minor": 5
}
